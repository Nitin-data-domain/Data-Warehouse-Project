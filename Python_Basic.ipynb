{
  "nbformat": 4,
  "nbformat_minor": 0,
  "metadata": {
    "colab": {
      "provenance": [],
      "authorship_tag": "ABX9TyPOu/UdNOP4bjXGf1+UCbVn",
      "include_colab_link": true
    },
    "kernelspec": {
      "name": "python3",
      "display_name": "Python 3"
    },
    "language_info": {
      "name": "python"
    }
  },
  "cells": [
    {
      "cell_type": "markdown",
      "metadata": {
        "id": "view-in-github",
        "colab_type": "text"
      },
      "source": [
        "<a href=\"https://colab.research.google.com/github/Nitin-data-domain/Data-Warehouse-Project/blob/main/Python_Basic.ipynb\" target=\"_parent\"><img src=\"https://colab.research.google.com/assets/colab-badge.svg\" alt=\"Open In Colab\"/></a>"
      ]
    },
    {
      "cell_type": "code",
      "execution_count": null,
      "metadata": {
        "colab": {
          "base_uri": "https://localhost:8080/"
        },
        "id": "RO825UpPhZi8",
        "outputId": "2690dadd-bafa-475a-d3ef-16f82c730e0f"
      },
      "outputs": [
        {
          "output_type": "stream",
          "name": "stdout",
          "text": [
            "This is my first code.\n"
          ]
        },
        {
          "output_type": "execute_result",
          "data": {
            "text/plain": [
              "str"
            ]
          },
          "metadata": {},
          "execution_count": 3
        }
      ],
      "source": [
        "# Variable:\n",
        "first_code = \"This is my first code.\"\n",
        "print(first_code)\n",
        "\n",
        "# We can see the data type using the type() function.\n",
        "type(first_code)\n"
      ]
    },
    {
      "cell_type": "code",
      "source": [
        "#type casting\n",
        "type(first_code)\n",
        "\n",
        "# Sting into int\n",
        "str1 = \"23\"\n",
        "print(str1)\n",
        "print(type(str1))\n",
        "\n",
        "int1 = int(str1)\n",
        "print(type(int1))\n",
        "\n",
        "# Impliciting Type Casting\n",
        "n1 = 10\n",
        "f1 = 5.5\n",
        "sum = n1 + f1\n",
        "print(sum)\n",
        "print(type(sum)) # now result is automatically convert into float\n",
        "\n",
        "\n",
        "# Expliciting Type Casting\n",
        "s1 = '23'\n",
        "n1 = int(s1)\n",
        "print(n1)\n",
        "print(type(n1))"
      ],
      "metadata": {
        "colab": {
          "base_uri": "https://localhost:8080/"
        },
        "id": "yaFl2iu2vNvy",
        "outputId": "ca0815b1-c4d4-496e-c4af-adf138eb709a"
      },
      "execution_count": null,
      "outputs": [
        {
          "output_type": "stream",
          "name": "stdout",
          "text": [
            "23\n",
            "<class 'str'>\n",
            "<class 'int'>\n",
            "15.5\n",
            "<class 'float'>\n",
            "23\n",
            "<class 'int'>\n"
          ]
        }
      ]
    },
    {
      "cell_type": "code",
      "source": [
        "#Input Function\n",
        "name = input(\"Enter your full name:\")\n",
        "\n",
        "print(\"Hello \" + name + \"!\")\n",
        "\n",
        "\n",
        "# Calcullating the percentage\n",
        "Student_Name: input(\"Enter your Name\")\n",
        "FOC = input(\"Enter your FOC marks:\")\n",
        "Python = input(\"Enter your Python marks:\")\n",
        "DBMS = input(\"Enter your DBMS marks:\")\n",
        "DSA = input(\"Enter your DSA marks:\")\n",
        "\n",
        "int_foc = int(FOC)\n",
        "int_python = int(Python)\n",
        "int_DBMS = int(DBMS)\n",
        "int_DSA = int(DSA)\n",
        "Percentage = (int_foc + int_python + int_DSA + int_DBMS) / 4\n",
        "\n",
        "# We are using f-sting method to print\n",
        "print(f\"Overall Percentage is: {int(Percentage)}\")"
      ],
      "metadata": {
        "colab": {
          "base_uri": "https://localhost:8080/"
        },
        "id": "pBgmGyRP1WHh",
        "outputId": "5b62329f-87c1-4dc2-861c-51778de3f0cb"
      },
      "execution_count": null,
      "outputs": [
        {
          "output_type": "stream",
          "name": "stdout",
          "text": [
            "Enter your full name:Nitin Girdhar\n",
            "Hello Nitin Girdhar!\n",
            "Enter your NameAman\n",
            "Enter your FOC marks:33\n",
            "Enter your Python marks:43\n",
            "Enter your DBMS marks:23\n",
            "Enter your DSA marks:43\n",
            "Overall Percentage is: 35\n"
          ]
        }
      ]
    },
    {
      "cell_type": "code",
      "source": [
        "# Operators in Python\n",
        "\n",
        "# Bitwise operator:\n",
        "a = 5\n",
        "b = 3\n",
        "print(a&b)\n",
        "\n",
        "\n",
        "a = 5\n",
        "b = 8\n",
        "print(a&b)"
      ],
      "metadata": {
        "colab": {
          "base_uri": "https://localhost:8080/"
        },
        "id": "baJvTlOa25m6",
        "outputId": "40bbc505-1aaa-441d-969d-cfcdaab988ea"
      },
      "execution_count": null,
      "outputs": [
        {
          "output_type": "stream",
          "name": "stdout",
          "text": [
            "1\n",
            "0\n"
          ]
        }
      ]
    },
    {
      "cell_type": "code",
      "source": [
        "# Conditional Statement\n",
        "\n",
        "# if Condition\n",
        "age = 24\n",
        "if age > 19 :\n",
        "  print(\"You are an adult\")\n",
        "\n",
        "# if-else condition:\n",
        "age = 15\n",
        "if age > 19 :\n",
        "  print(\"You are an adult\")\n",
        "else:\n",
        "  print(\"You are not an adult\")\n",
        "\n",
        "\n",
        "#if-elif-else condition:\n",
        "score = 85\n",
        "if score >= 90:\n",
        "  print(\"Grade: A\")\n",
        "elif score >= 80:\n",
        "  print(\"Grade: B\")\n",
        "elif score >= 70:\n",
        "  print(\"Grade: C\")\n",
        "else:\n",
        "  print(\"Grade: D\")\n",
        "\n",
        "# Nested if-else condition:\n",
        "number = 10\n",
        "if number > 0:\n",
        "  if number % 2 == 0:\n",
        "    print(\"Number is positive and even\")\n",
        "  else:\n",
        "    print(\"Number is positive and odd\")\n",
        "else:\n",
        "  print(\"Number is negative\")"
      ],
      "metadata": {
        "colab": {
          "base_uri": "https://localhost:8080/"
        },
        "id": "PxcUTjj4EdzX",
        "outputId": "a9523fb5-e8be-4d3d-ea70-ed326b3de931"
      },
      "execution_count": null,
      "outputs": [
        {
          "output_type": "stream",
          "name": "stdout",
          "text": [
            "You are an adult\n",
            "You are not an adult\n",
            "Grade: B\n",
            "Number is positive and even\n"
          ]
        }
      ]
    },
    {
      "cell_type": "code",
      "source": [
        "# leap year\n",
        "year = int(input(\"Enter a year:\"))\n",
        "if (year % 4 == 0 and year % 100 != 0) or (year % 400 == 0):\n",
        "  print(f\"{year} is a leap year\")\n",
        "else:\n",
        "  print(f\"{year} is not a leap year\")"
      ],
      "metadata": {
        "id": "gjWEZAhEHqWA"
      },
      "execution_count": null,
      "outputs": []
    },
    {
      "cell_type": "code",
      "source": [],
      "metadata": {
        "id": "6aemU57okJpS"
      },
      "execution_count": null,
      "outputs": []
    }
  ]
}